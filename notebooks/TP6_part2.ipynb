{
 "cells": [
  {
   "cell_type": "markdown",
   "metadata": {},
   "source": [
    "## TP3 exercise 4\n",
    "<img align=\"left\" src=\"tp6_img/tp3ex4.PNG\" alt=\"PF\" width=\"600\"/>\n",
    "<img align=\"left\" src=\"tp6_img/tp3table.PNG\" alt=\"PF\" width=\"600\"/>\n",
    "<img align=\"left\" src=\"tp6_img/tp3ex4form.PNG\" alt=\"PF\" width=\"600\"/>"
   ]
  },
  {
   "cell_type": "code",
   "execution_count": 14,
   "metadata": {},
   "outputs": [],
   "source": [
    "import math\n",
    "import matplotlib.pyplot as plt"
   ]
  },
  {
   "cell_type": "code",
   "execution_count": 10,
   "metadata": {},
   "outputs": [
    {
     "name": "stdout",
     "output_type": "stream",
     "text": [
      "199185.8428704209\n"
     ]
    }
   ],
   "source": [
    "V_ll = 345e3 #kv\n",
    "V_r_ll = V_ll\n",
    "V_r = V_r_ll/math.sqrt(3)"
   ]
  },
  {
   "cell_type": "code",
   "execution_count": null,
   "metadata": {},
   "outputs": [],
   "source": [
    "wC = 4.6e-6 #S/km\n",
    "wL = 0.38 # ohm/km\n",
    "beta = math.sqrt(wL*wC)\n",
    "Z_c = math.sqrt(wL/wC)"
   ]
  },
  {
   "cell_type": "code",
   "execution_count": 22,
   "metadata": {},
   "outputs": [],
   "source": [
    "SIL = V_ll**2/Z_c\n",
    "P_r = 1*SIL #1.5 #3\n",
    "I_r = P_r/(3*V_r)"
   ]
  },
  {
   "cell_type": "code",
   "execution_count": 23,
   "metadata": {},
   "outputs": [],
   "source": [
    "X = range(0,200)\n",
    "V_x = []\n",
    "V_x_mag = []\n",
    "for x in X:\n",
    "    V_x.append(complex(V_r*math.cos(beta*x), Z_c*I_r*math.sin(beta*x)))\n",
    "    V_x_mag.append(abs(complex(V_r*math.cos(beta*x), Z_c*I_r*math.sin(beta*x))))"
   ]
  },
  {
   "cell_type": "code",
   "execution_count": 24,
   "metadata": {},
   "outputs": [
    {
     "data": {
      "text/plain": [
       "[<matplotlib.lines.Line2D at 0x1d449655508>]"
      ]
     },
     "execution_count": 24,
     "metadata": {},
     "output_type": "execute_result"
    },
    {
     "data": {
      "image/png": "[encoded data removed]",
      "text/plain": [
       "<Figure size 432x288 with 1 Axes>"
      ]
     },
     "metadata": {
      "needs_background": "light"
     },
     "output_type": "display_data"
    }
   ],
   "source": [
    "plt.plot(X,V_x_mag) "
   ]
  },
  {
   "cell_type": "markdown",
   "metadata": {},
   "source": [
    "## TP4 exercise 2\n",
    "<img align=\"left\" src=\"tp6_img/tp4ex2.PNG\" alt=\"PF\" width=\"600\"/>\n",
    "<img align=\"left\" src=\"tp6_img/tp4ex2tfo.PNG\" alt=\"PF\" width=\"600\"/>"
   ]
  },
  {
   "cell_type": "code",
   "execution_count": 40,
   "metadata": {},
   "outputs": [],
   "source": [
    "import math\n",
    "import cmath"
   ]
  },
  {
   "cell_type": "code",
   "execution_count": 41,
   "metadata": {},
   "outputs": [],
   "source": [
    "# Data\n",
    "n = 240/2400\n",
    "f = 60 # Hz\n",
    "Z_1 = complex(1.2, 2)\n",
    "Z_2 = complex(0.012, 0.02)\n",
    "V_2 = 240 # V\n",
    "Z_l_mag = 1.5 # Ohm\n",
    "cos_phi = 0.9\n",
    "X_m = 1800 #Ohm\n",
    "Z_m = complex(0, X_m)\n"
   ]
  },
  {
   "cell_type": "code",
   "execution_count": 42,
   "metadata": {},
   "outputs": [],
   "source": [
    "phi = math.acos(cos_phi)\n",
    "Z_l = cmath.rect(Z_l_mag, phi)\n",
    "I_2 = V_2/Z_l\n",
    "E_2 = V_2 + Z_2*I_2\n",
    "\n",
    "I_2_prime = I_2*n\n",
    "E_1 = E_2/n\n",
    "I_m = E_1/Z_m\n",
    "I_1 = I_2_prime + I_m\n",
    "V_1 = Z_1*I_1 + E_1"
   ]
  },
  {
   "cell_type": "code",
   "execution_count": 43,
   "metadata": {},
   "outputs": [
    {
     "name": "stdout",
     "output_type": "stream",
     "text": [
      "V_1 = 2462.80 V < 0.02\n"
     ]
    }
   ],
   "source": [
    "print(\"V_1 = %.2f V < %.2f\" %(abs(V_1), cmath.phase(V_1)))"
   ]
  },
  {
   "cell_type": "code",
   "execution_count": 33,
   "metadata": {},
   "outputs": [],
   "source": [
    "## Per unit\n",
    "\n",
    "#base\n",
    "V_1_base = 2400\n",
    "V_2_base = n*V_1_base\n",
    "S_base = 38400\n",
    "I_1_base = S_base/V_1_base\n",
    "I_2_base = S_base/V_2_base\n",
    "Z_1_base = V_1_base/I_1_base\n",
    "Z_2_base = V_2_base/I_2_base"
   ]
  },
  {
   "cell_type": "code",
   "execution_count": 36,
   "metadata": {},
   "outputs": [],
   "source": [
    "# Per unit values\n",
    "Z_1_pu = Z_1/Z_1_base\n",
    "Z_2_pu = Z_2/Z_2_base\n",
    "V_2_pu = V_2/V_2_base\n",
    "Z_l_mag_pu = Z_l_mag/Z_2_base"
   ]
  },
  {
   "cell_type": "code",
   "execution_count": 38,
   "metadata": {},
   "outputs": [],
   "source": [
    "phi = math.acos(cos_phi)\n",
    "Z_l_pu = cmath.rect(Z_l_mag_pu, phi)\n",
    "I_2_pu = V_2_pu/Z_l_pu\n",
    "Z_tr = Z_1_pu + Z_2_pu\n",
    "V_1_pu = V_2_pu + I_2_pu*Z_tr\n",
    "V_1 = V_1_pu*V_1_base"
   ]
  },
  {
   "cell_type": "code",
   "execution_count": 39,
   "metadata": {},
   "outputs": [
    {
     "name": "stdout",
     "output_type": "stream",
     "text": [
      "V_1 = 2462.80 V < 0.02\n"
     ]
    }
   ],
   "source": [
    "print(\"V_1 = %.2f V < %.2f\" %(abs(V_1), cmath.phase(V_1)))"
   ]
  },
  {
   "cell_type": "code",
   "execution_count": null,
   "metadata": {},
   "outputs": [],
   "source": []
  }
 ],
 "metadata": {
  "kernelspec": {
   "display_name": "Python 3",
   "language": "python",
   "name": "python3"
  },
  "language_info": {
   "codemirror_mode": {
    "name": "ipython",
    "version": 3
   },
   "file_extension": ".py",
   "mimetype": "text/x-python",
   "name": "python",
   "nbconvert_exporter": "python",
   "pygments_lexer": "ipython3",
   "version": "3.7.9"
  }
 },
 "nbformat": 4,
 "nbformat_minor": 2
}